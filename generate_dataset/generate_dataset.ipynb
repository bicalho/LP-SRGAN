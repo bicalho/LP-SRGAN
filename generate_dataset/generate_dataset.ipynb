{
 "cells": [
  {
   "cell_type": "code",
   "execution_count": 1,
   "metadata": {},
   "outputs": [],
   "source": [
    "from PIL import Image, ImageFont, ImageDraw\n",
    "import string\n",
    "import random\n",
    "\n",
    "import pandas as pd\n",
    "import numpy as np\n",
    "\n",
    "import matplotlib.pyplot as plt"
   ]
  },
  {
   "cell_type": "code",
   "execution_count": 2,
   "metadata": {},
   "outputs": [],
   "source": [
    "font_plate = ImageFont.truetype(\"MANDATOR.ttf\", 60)\n",
    "font_city = ImageFont.truetype(\"arial.ttf\", 15)"
   ]
  },
  {
   "cell_type": "code",
   "execution_count": 3,
   "metadata": {},
   "outputs": [],
   "source": [
    "img = Image.open('template.png')"
   ]
  },
  {
   "cell_type": "code",
   "execution_count": 4,
   "metadata": {},
   "outputs": [],
   "source": [
    "draw = ImageDraw.Draw(img)\n",
    "df = pd.read_csv('municipios.csv', encoding = 'latin1')"
   ]
  },
  {
   "cell_type": "code",
   "execution_count": 5,
   "metadata": {},
   "outputs": [],
   "source": [
    "def generate_random_text(draw):\n",
    "    letters = string.ascii_uppercase\n",
    "    digits = string.digits\n",
    "    \n",
    "    def add_pixel(pixel, step=30):\n",
    "        pixel = pixel+step\n",
    "        \n",
    "        return pixel\n",
    "    \n",
    "    text = str()\n",
    "    full_text = str()\n",
    "    pixel_init = 30\n",
    "    for i in range(0,3):\n",
    "        text=random.choice(letters)\n",
    "        full_text+=text\n",
    "        if text == 'I':\n",
    "            draw.text((pixel_init+11, 35),text,(0,0,0),font=font_plate)\n",
    "            pixel_init = add_pixel(pixel_init, step = int(font_plate.getsize(text)[0])+22)\n",
    "        else:\n",
    "            draw.text((pixel_init, 35),text,(0,0,0),font=font_plate)\n",
    "            pixel_init = add_pixel(pixel_init, step = int(font_plate.getsize(text)[0]))\n",
    "    text='-'\n",
    "    full_text+=text\n",
    "    draw.text((pixel_init, 35),text,(0,0,0),font=font_plate)\n",
    "    pixel_init = add_pixel(pixel_init, step = int(font_plate.getsize(text)[0]))\n",
    "    for i in range(0,4):\n",
    "        text=random.choice(digits)\n",
    "        full_text+=text\n",
    "        if text == '1':\n",
    "            draw.text((pixel_init+11, 35),text,(0,0,0),font=font_plate)\n",
    "            pixel_init = add_pixel(pixel_init, step = int(font_plate.getsize(text)[0])+22)\n",
    "        else:\n",
    "            draw.text((pixel_init, 35),text,(0,0,0),font=font_plate)\n",
    "            pixel_init = add_pixel(pixel_init, step = int(font_plate.getsize(text)[0]))\n",
    "    \n",
    "    return full_text\n",
    "#TODO - escrever cada letra de uma vez, com espaçamento de pixels"
   ]
  },
  {
   "cell_type": "code",
   "execution_count": 6,
   "metadata": {},
   "outputs": [],
   "source": [
    "def generate_random_city():\n",
    "    random = df.sample(1).values[0]\n",
    "    cidade = random[0]\n",
    "    estado = random[1]\n",
    "    cidade_estado = estado+' - '+cidade\n",
    "\n",
    "    return cidade_estado"
   ]
  },
  {
   "cell_type": "code",
   "execution_count": 7,
   "metadata": {},
   "outputs": [],
   "source": [
    "def generate_dataset(size):\n",
    "    for i in range(size):\n",
    "        img = Image.open('template.png')\n",
    "        draw = ImageDraw.Draw(img)\n",
    "        text = generate_random_text(draw)\n",
    "        #cidade = generate_random_city()\n",
    "        #draw.text(((240-font_city.getsize(cidade)[0])/2 + 50, 23), cidade, (0,0,0), font=font_city)\n",
    "        #img.save('dataset/'+text+'_'+cidade+'.png')\n",
    "        img.save('dataset/'+text+'.png')\n",
    "        #plt.imshow(img)"
   ]
  },
  {
   "cell_type": "code",
   "execution_count": 8,
   "metadata": {},
   "outputs": [],
   "source": [
    "generate_dataset(1)"
   ]
  }
 ],
 "metadata": {
  "kernelspec": {
   "display_name": "Python 3",
   "language": "python",
   "name": "python3"
  },
  "language_info": {
   "codemirror_mode": {
    "name": "ipython",
    "version": 3
   },
   "file_extension": ".py",
   "mimetype": "text/x-python",
   "name": "python",
   "nbconvert_exporter": "python",
   "pygments_lexer": "ipython3",
   "version": "3.6.7"
  }
 },
 "nbformat": 4,
 "nbformat_minor": 4
}
